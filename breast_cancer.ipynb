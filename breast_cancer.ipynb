{
  "nbformat": 4,
  "nbformat_minor": 0,
  "metadata": {
    "colab": {
      "name": "breast_cancer.ipynb",
      "provenance": [],
      "collapsed_sections": []
    },
    "kernelspec": {
      "name": "python3",
      "display_name": "Python 3"
    }
  },
  "cells": [
    {
      "cell_type": "code",
      "metadata": {
        "id": "pq5onufDimmt",
        "colab_type": "code",
        "colab": {}
      },
      "source": [
        "import numpy as np\n",
        "import pandas as pd\n",
        "from sklearn.datasets import load_breast_cancer\n",
        "import matplotlib.pyplot as plt\n",
        "\n",
        "from sklearn.model_selection import train_test_split\n",
        "from sklearn.preprocessing import StandardScaler\n",
        "\n",
        "from tensorflow.keras import Sequential\n",
        "from tensorflow.keras.layers import Conv1D, BatchNormalization, Dropout, Flatten, Dense\n",
        "from tensorflow.keras.optimizers import Adam\n",
        "from tensorflow.keras.callbacks import EarlyStopping\n",
        "\n",
        "from sklearn.metrics import accuracy_score, classification_report"
      ],
      "execution_count": 1,
      "outputs": []
    },
    {
      "cell_type": "code",
      "metadata": {
        "id": "kBfQH14XjGeX",
        "colab_type": "code",
        "colab": {}
      },
      "source": [
        "cancer = load_breast_cancer()"
      ],
      "execution_count": 2,
      "outputs": []
    },
    {
      "cell_type": "code",
      "metadata": {
        "id": "DURN8MAlizql",
        "colab_type": "code",
        "colab": {
          "base_uri": "https://localhost:8080/",
          "height": 1000
        },
        "outputId": "e82d38e8-36f8-4329-de8f-9431cebfe1d1"
      },
      "source": [
        "print(cancer.DESCR)"
      ],
      "execution_count": 3,
      "outputs": [
        {
          "output_type": "stream",
          "text": [
            ".. _breast_cancer_dataset:\n",
            "\n",
            "Breast cancer wisconsin (diagnostic) dataset\n",
            "--------------------------------------------\n",
            "\n",
            "**Data Set Characteristics:**\n",
            "\n",
            "    :Number of Instances: 569\n",
            "\n",
            "    :Number of Attributes: 30 numeric, predictive attributes and the class\n",
            "\n",
            "    :Attribute Information:\n",
            "        - radius (mean of distances from center to points on the perimeter)\n",
            "        - texture (standard deviation of gray-scale values)\n",
            "        - perimeter\n",
            "        - area\n",
            "        - smoothness (local variation in radius lengths)\n",
            "        - compactness (perimeter^2 / area - 1.0)\n",
            "        - concavity (severity of concave portions of the contour)\n",
            "        - concave points (number of concave portions of the contour)\n",
            "        - symmetry \n",
            "        - fractal dimension (\"coastline approximation\" - 1)\n",
            "\n",
            "        The mean, standard error, and \"worst\" or largest (mean of the three\n",
            "        largest values) of these features were computed for each image,\n",
            "        resulting in 30 features.  For instance, field 3 is Mean Radius, field\n",
            "        13 is Radius SE, field 23 is Worst Radius.\n",
            "\n",
            "        - class:\n",
            "                - WDBC-Malignant\n",
            "                - WDBC-Benign\n",
            "\n",
            "    :Summary Statistics:\n",
            "\n",
            "    ===================================== ====== ======\n",
            "                                           Min    Max\n",
            "    ===================================== ====== ======\n",
            "    radius (mean):                        6.981  28.11\n",
            "    texture (mean):                       9.71   39.28\n",
            "    perimeter (mean):                     43.79  188.5\n",
            "    area (mean):                          143.5  2501.0\n",
            "    smoothness (mean):                    0.053  0.163\n",
            "    compactness (mean):                   0.019  0.345\n",
            "    concavity (mean):                     0.0    0.427\n",
            "    concave points (mean):                0.0    0.201\n",
            "    symmetry (mean):                      0.106  0.304\n",
            "    fractal dimension (mean):             0.05   0.097\n",
            "    radius (standard error):              0.112  2.873\n",
            "    texture (standard error):             0.36   4.885\n",
            "    perimeter (standard error):           0.757  21.98\n",
            "    area (standard error):                6.802  542.2\n",
            "    smoothness (standard error):          0.002  0.031\n",
            "    compactness (standard error):         0.002  0.135\n",
            "    concavity (standard error):           0.0    0.396\n",
            "    concave points (standard error):      0.0    0.053\n",
            "    symmetry (standard error):            0.008  0.079\n",
            "    fractal dimension (standard error):   0.001  0.03\n",
            "    radius (worst):                       7.93   36.04\n",
            "    texture (worst):                      12.02  49.54\n",
            "    perimeter (worst):                    50.41  251.2\n",
            "    area (worst):                         185.2  4254.0\n",
            "    smoothness (worst):                   0.071  0.223\n",
            "    compactness (worst):                  0.027  1.058\n",
            "    concavity (worst):                    0.0    1.252\n",
            "    concave points (worst):               0.0    0.291\n",
            "    symmetry (worst):                     0.156  0.664\n",
            "    fractal dimension (worst):            0.055  0.208\n",
            "    ===================================== ====== ======\n",
            "\n",
            "    :Missing Attribute Values: None\n",
            "\n",
            "    :Class Distribution: 212 - Malignant, 357 - Benign\n",
            "\n",
            "    :Creator:  Dr. William H. Wolberg, W. Nick Street, Olvi L. Mangasarian\n",
            "\n",
            "    :Donor: Nick Street\n",
            "\n",
            "    :Date: November, 1995\n",
            "\n",
            "This is a copy of UCI ML Breast Cancer Wisconsin (Diagnostic) datasets.\n",
            "https://goo.gl/U2Uwz2\n",
            "\n",
            "Features are computed from a digitized image of a fine needle\n",
            "aspirate (FNA) of a breast mass.  They describe\n",
            "characteristics of the cell nuclei present in the image.\n",
            "\n",
            "Separating plane described above was obtained using\n",
            "Multisurface Method-Tree (MSM-T) [K. P. Bennett, \"Decision Tree\n",
            "Construction Via Linear Programming.\" Proceedings of the 4th\n",
            "Midwest Artificial Intelligence and Cognitive Science Society,\n",
            "pp. 97-101, 1992], a classification method which uses linear\n",
            "programming to construct a decision tree.  Relevant features\n",
            "were selected using an exhaustive search in the space of 1-4\n",
            "features and 1-3 separating planes.\n",
            "\n",
            "The actual linear program used to obtain the separating plane\n",
            "in the 3-dimensional space is that described in:\n",
            "[K. P. Bennett and O. L. Mangasarian: \"Robust Linear\n",
            "Programming Discrimination of Two Linearly Inseparable Sets\",\n",
            "Optimization Methods and Software 1, 1992, 23-34].\n",
            "\n",
            "This database is also available through the UW CS ftp server:\n",
            "\n",
            "ftp ftp.cs.wisc.edu\n",
            "cd math-prog/cpo-dataset/machine-learn/WDBC/\n",
            "\n",
            ".. topic:: References\n",
            "\n",
            "   - W.N. Street, W.H. Wolberg and O.L. Mangasarian. Nuclear feature extraction \n",
            "     for breast tumor diagnosis. IS&T/SPIE 1993 International Symposium on \n",
            "     Electronic Imaging: Science and Technology, volume 1905, pages 861-870,\n",
            "     San Jose, CA, 1993.\n",
            "   - O.L. Mangasarian, W.N. Street and W.H. Wolberg. Breast cancer diagnosis and \n",
            "     prognosis via linear programming. Operations Research, 43(4), pages 570-577, \n",
            "     July-August 1995.\n",
            "   - W.H. Wolberg, W.N. Street, and O.L. Mangasarian. Machine learning techniques\n",
            "     to diagnose breast cancer from fine-needle aspirates. Cancer Letters 77 (1994) \n",
            "     163-171.\n"
          ],
          "name": "stdout"
        }
      ]
    },
    {
      "cell_type": "code",
      "metadata": {
        "id": "RXgN37cRjP87",
        "colab_type": "code",
        "colab": {
          "base_uri": "https://localhost:8080/",
          "height": 258
        },
        "outputId": "7d80d576-3f1d-4b29-b026-2184f96bf77a"
      },
      "source": [
        "X = pd.DataFrame(cancer.data, columns=cancer.feature_names)\n",
        "X.head()"
      ],
      "execution_count": 4,
      "outputs": [
        {
          "output_type": "execute_result",
          "data": {
            "text/html": [
              "<div>\n",
              "<style scoped>\n",
              "    .dataframe tbody tr th:only-of-type {\n",
              "        vertical-align: middle;\n",
              "    }\n",
              "\n",
              "    .dataframe tbody tr th {\n",
              "        vertical-align: top;\n",
              "    }\n",
              "\n",
              "    .dataframe thead th {\n",
              "        text-align: right;\n",
              "    }\n",
              "</style>\n",
              "<table border=\"1\" class=\"dataframe\">\n",
              "  <thead>\n",
              "    <tr style=\"text-align: right;\">\n",
              "      <th></th>\n",
              "      <th>mean radius</th>\n",
              "      <th>mean texture</th>\n",
              "      <th>mean perimeter</th>\n",
              "      <th>mean area</th>\n",
              "      <th>mean smoothness</th>\n",
              "      <th>mean compactness</th>\n",
              "      <th>mean concavity</th>\n",
              "      <th>mean concave points</th>\n",
              "      <th>mean symmetry</th>\n",
              "      <th>mean fractal dimension</th>\n",
              "      <th>radius error</th>\n",
              "      <th>texture error</th>\n",
              "      <th>perimeter error</th>\n",
              "      <th>area error</th>\n",
              "      <th>smoothness error</th>\n",
              "      <th>compactness error</th>\n",
              "      <th>concavity error</th>\n",
              "      <th>concave points error</th>\n",
              "      <th>symmetry error</th>\n",
              "      <th>fractal dimension error</th>\n",
              "      <th>worst radius</th>\n",
              "      <th>worst texture</th>\n",
              "      <th>worst perimeter</th>\n",
              "      <th>worst area</th>\n",
              "      <th>worst smoothness</th>\n",
              "      <th>worst compactness</th>\n",
              "      <th>worst concavity</th>\n",
              "      <th>worst concave points</th>\n",
              "      <th>worst symmetry</th>\n",
              "      <th>worst fractal dimension</th>\n",
              "    </tr>\n",
              "  </thead>\n",
              "  <tbody>\n",
              "    <tr>\n",
              "      <th>0</th>\n",
              "      <td>17.99</td>\n",
              "      <td>10.38</td>\n",
              "      <td>122.80</td>\n",
              "      <td>1001.0</td>\n",
              "      <td>0.11840</td>\n",
              "      <td>0.27760</td>\n",
              "      <td>0.3001</td>\n",
              "      <td>0.14710</td>\n",
              "      <td>0.2419</td>\n",
              "      <td>0.07871</td>\n",
              "      <td>1.0950</td>\n",
              "      <td>0.9053</td>\n",
              "      <td>8.589</td>\n",
              "      <td>153.40</td>\n",
              "      <td>0.006399</td>\n",
              "      <td>0.04904</td>\n",
              "      <td>0.05373</td>\n",
              "      <td>0.01587</td>\n",
              "      <td>0.03003</td>\n",
              "      <td>0.006193</td>\n",
              "      <td>25.38</td>\n",
              "      <td>17.33</td>\n",
              "      <td>184.60</td>\n",
              "      <td>2019.0</td>\n",
              "      <td>0.1622</td>\n",
              "      <td>0.6656</td>\n",
              "      <td>0.7119</td>\n",
              "      <td>0.2654</td>\n",
              "      <td>0.4601</td>\n",
              "      <td>0.11890</td>\n",
              "    </tr>\n",
              "    <tr>\n",
              "      <th>1</th>\n",
              "      <td>20.57</td>\n",
              "      <td>17.77</td>\n",
              "      <td>132.90</td>\n",
              "      <td>1326.0</td>\n",
              "      <td>0.08474</td>\n",
              "      <td>0.07864</td>\n",
              "      <td>0.0869</td>\n",
              "      <td>0.07017</td>\n",
              "      <td>0.1812</td>\n",
              "      <td>0.05667</td>\n",
              "      <td>0.5435</td>\n",
              "      <td>0.7339</td>\n",
              "      <td>3.398</td>\n",
              "      <td>74.08</td>\n",
              "      <td>0.005225</td>\n",
              "      <td>0.01308</td>\n",
              "      <td>0.01860</td>\n",
              "      <td>0.01340</td>\n",
              "      <td>0.01389</td>\n",
              "      <td>0.003532</td>\n",
              "      <td>24.99</td>\n",
              "      <td>23.41</td>\n",
              "      <td>158.80</td>\n",
              "      <td>1956.0</td>\n",
              "      <td>0.1238</td>\n",
              "      <td>0.1866</td>\n",
              "      <td>0.2416</td>\n",
              "      <td>0.1860</td>\n",
              "      <td>0.2750</td>\n",
              "      <td>0.08902</td>\n",
              "    </tr>\n",
              "    <tr>\n",
              "      <th>2</th>\n",
              "      <td>19.69</td>\n",
              "      <td>21.25</td>\n",
              "      <td>130.00</td>\n",
              "      <td>1203.0</td>\n",
              "      <td>0.10960</td>\n",
              "      <td>0.15990</td>\n",
              "      <td>0.1974</td>\n",
              "      <td>0.12790</td>\n",
              "      <td>0.2069</td>\n",
              "      <td>0.05999</td>\n",
              "      <td>0.7456</td>\n",
              "      <td>0.7869</td>\n",
              "      <td>4.585</td>\n",
              "      <td>94.03</td>\n",
              "      <td>0.006150</td>\n",
              "      <td>0.04006</td>\n",
              "      <td>0.03832</td>\n",
              "      <td>0.02058</td>\n",
              "      <td>0.02250</td>\n",
              "      <td>0.004571</td>\n",
              "      <td>23.57</td>\n",
              "      <td>25.53</td>\n",
              "      <td>152.50</td>\n",
              "      <td>1709.0</td>\n",
              "      <td>0.1444</td>\n",
              "      <td>0.4245</td>\n",
              "      <td>0.4504</td>\n",
              "      <td>0.2430</td>\n",
              "      <td>0.3613</td>\n",
              "      <td>0.08758</td>\n",
              "    </tr>\n",
              "    <tr>\n",
              "      <th>3</th>\n",
              "      <td>11.42</td>\n",
              "      <td>20.38</td>\n",
              "      <td>77.58</td>\n",
              "      <td>386.1</td>\n",
              "      <td>0.14250</td>\n",
              "      <td>0.28390</td>\n",
              "      <td>0.2414</td>\n",
              "      <td>0.10520</td>\n",
              "      <td>0.2597</td>\n",
              "      <td>0.09744</td>\n",
              "      <td>0.4956</td>\n",
              "      <td>1.1560</td>\n",
              "      <td>3.445</td>\n",
              "      <td>27.23</td>\n",
              "      <td>0.009110</td>\n",
              "      <td>0.07458</td>\n",
              "      <td>0.05661</td>\n",
              "      <td>0.01867</td>\n",
              "      <td>0.05963</td>\n",
              "      <td>0.009208</td>\n",
              "      <td>14.91</td>\n",
              "      <td>26.50</td>\n",
              "      <td>98.87</td>\n",
              "      <td>567.7</td>\n",
              "      <td>0.2098</td>\n",
              "      <td>0.8663</td>\n",
              "      <td>0.6869</td>\n",
              "      <td>0.2575</td>\n",
              "      <td>0.6638</td>\n",
              "      <td>0.17300</td>\n",
              "    </tr>\n",
              "    <tr>\n",
              "      <th>4</th>\n",
              "      <td>20.29</td>\n",
              "      <td>14.34</td>\n",
              "      <td>135.10</td>\n",
              "      <td>1297.0</td>\n",
              "      <td>0.10030</td>\n",
              "      <td>0.13280</td>\n",
              "      <td>0.1980</td>\n",
              "      <td>0.10430</td>\n",
              "      <td>0.1809</td>\n",
              "      <td>0.05883</td>\n",
              "      <td>0.7572</td>\n",
              "      <td>0.7813</td>\n",
              "      <td>5.438</td>\n",
              "      <td>94.44</td>\n",
              "      <td>0.011490</td>\n",
              "      <td>0.02461</td>\n",
              "      <td>0.05688</td>\n",
              "      <td>0.01885</td>\n",
              "      <td>0.01756</td>\n",
              "      <td>0.005115</td>\n",
              "      <td>22.54</td>\n",
              "      <td>16.67</td>\n",
              "      <td>152.20</td>\n",
              "      <td>1575.0</td>\n",
              "      <td>0.1374</td>\n",
              "      <td>0.2050</td>\n",
              "      <td>0.4000</td>\n",
              "      <td>0.1625</td>\n",
              "      <td>0.2364</td>\n",
              "      <td>0.07678</td>\n",
              "    </tr>\n",
              "  </tbody>\n",
              "</table>\n",
              "</div>"
            ],
            "text/plain": [
              "   mean radius  mean texture  ...  worst symmetry  worst fractal dimension\n",
              "0        17.99         10.38  ...          0.4601                  0.11890\n",
              "1        20.57         17.77  ...          0.2750                  0.08902\n",
              "2        19.69         21.25  ...          0.3613                  0.08758\n",
              "3        11.42         20.38  ...          0.6638                  0.17300\n",
              "4        20.29         14.34  ...          0.2364                  0.07678\n",
              "\n",
              "[5 rows x 30 columns]"
            ]
          },
          "metadata": {
            "tags": []
          },
          "execution_count": 4
        }
      ]
    },
    {
      "cell_type": "code",
      "metadata": {
        "id": "3atiB5eufVMf",
        "colab_type": "code",
        "colab": {}
      },
      "source": [
        "y = cancer.target"
      ],
      "execution_count": 5,
      "outputs": []
    },
    {
      "cell_type": "code",
      "metadata": {
        "id": "Kw9W3UndjwNs",
        "colab_type": "code",
        "colab": {
          "base_uri": "https://localhost:8080/",
          "height": 34
        },
        "outputId": "8e715043-0b9b-47c2-edb3-1716f0c7bdfd"
      },
      "source": [
        "cancer.target_names"
      ],
      "execution_count": 6,
      "outputs": [
        {
          "output_type": "execute_result",
          "data": {
            "text/plain": [
              "array(['malignant', 'benign'], dtype='<U9')"
            ]
          },
          "metadata": {
            "tags": []
          },
          "execution_count": 6
        }
      ]
    },
    {
      "cell_type": "code",
      "metadata": {
        "id": "p9cedl9jLn8a",
        "colab_type": "code",
        "colab": {}
      },
      "source": [
        "X_train, X_test, y_train, y_test = train_test_split(X, y, test_size=0.20, random_state=1)"
      ],
      "execution_count": 8,
      "outputs": []
    },
    {
      "cell_type": "code",
      "metadata": {
        "id": "SkX2cehmseSy",
        "colab_type": "code",
        "colab": {}
      },
      "source": [
        "scaler = StandardScaler()\n",
        "X_train = scaler.fit_transform(X_train)\n",
        "X_test = scaler.transform(X_test)"
      ],
      "execution_count": 9,
      "outputs": []
    },
    {
      "cell_type": "code",
      "metadata": {
        "id": "RmpUMC_NfcFd",
        "colab_type": "code",
        "colab": {}
      },
      "source": [
        "X_train = X_train.reshape(X_train.shape[0], X_train.shape[1], 1)\n",
        "X_test = X_test.reshape(X_test.shape[0], X_test.shape[1], 1)"
      ],
      "execution_count": 10,
      "outputs": []
    },
    {
      "cell_type": "code",
      "metadata": {
        "id": "UsRZaqObsU__",
        "colab_type": "code",
        "colab": {
          "base_uri": "https://localhost:8080/",
          "height": 34
        },
        "outputId": "84dc7cd0-d91f-497b-c7aa-a6b7767c7db7"
      },
      "source": [
        "X_train.shape"
      ],
      "execution_count": 11,
      "outputs": [
        {
          "output_type": "execute_result",
          "data": {
            "text/plain": [
              "(455, 30, 1)"
            ]
          },
          "metadata": {
            "tags": []
          },
          "execution_count": 11
        }
      ]
    },
    {
      "cell_type": "code",
      "metadata": {
        "id": "x1G138JYNphN",
        "colab_type": "code",
        "colab": {}
      },
      "source": [
        "ip_shape = X_train.shape[1:3]\n",
        "epochs = 200"
      ],
      "execution_count": 12,
      "outputs": []
    },
    {
      "cell_type": "code",
      "metadata": {
        "id": "tu2mK7zPS23l",
        "colab_type": "code",
        "colab": {}
      },
      "source": [
        "es = EarlyStopping(monitor='val_loss',\n",
        "                   patience=10,\n",
        "                   verbose=1,\n",
        "                   mode='min',\n",
        "                   min_delta=0.001)"
      ],
      "execution_count": 30,
      "outputs": []
    },
    {
      "cell_type": "code",
      "metadata": {
        "id": "hKkyKs8Ljv8k",
        "colab_type": "code",
        "colab": {}
      },
      "source": [
        "model = Sequential()\n",
        "model.add(Conv1D(filters=64, kernel_size=2, padding='valid', activation='relu', input_shape= ip_shape))\n",
        "model.add(BatchNormalization())\n",
        "model.add(Dropout(0.50))\n",
        "\n",
        "model.add(Conv1D(filters=32, kernel_size=2, padding='valid', activation='relu'))\n",
        "model.add(BatchNormalization())\n",
        "model.add(Dropout(0.60))\n",
        "\n",
        "model.add(Flatten())\n",
        "\n",
        "model.add(Dense(units=64, activation='relu'))\n",
        "model.add(Dropout(0.50))\n",
        "\n",
        "model.add(Dense(units=32, activation='relu'))\n",
        "model.add(Dropout(0.60))\n",
        "\n",
        "model.add(Dense(units=1, activation='sigmoid'))"
      ],
      "execution_count": 38,
      "outputs": []
    },
    {
      "cell_type": "code",
      "metadata": {
        "id": "may0bNY2jv5R",
        "colab_type": "code",
        "colab": {
          "base_uri": "https://localhost:8080/",
          "height": 561
        },
        "outputId": "a19eb080-46fd-4b03-b115-59c06d005430"
      },
      "source": [
        "model.summary()"
      ],
      "execution_count": 39,
      "outputs": [
        {
          "output_type": "stream",
          "text": [
            "Model: \"sequential_4\"\n",
            "_________________________________________________________________\n",
            "Layer (type)                 Output Shape              Param #   \n",
            "=================================================================\n",
            "conv1d_8 (Conv1D)            (None, 29, 64)            192       \n",
            "_________________________________________________________________\n",
            "batch_normalization_8 (Batch (None, 29, 64)            256       \n",
            "_________________________________________________________________\n",
            "dropout_14 (Dropout)         (None, 29, 64)            0         \n",
            "_________________________________________________________________\n",
            "conv1d_9 (Conv1D)            (None, 28, 32)            4128      \n",
            "_________________________________________________________________\n",
            "batch_normalization_9 (Batch (None, 28, 32)            128       \n",
            "_________________________________________________________________\n",
            "dropout_15 (Dropout)         (None, 28, 32)            0         \n",
            "_________________________________________________________________\n",
            "flatten_4 (Flatten)          (None, 896)               0         \n",
            "_________________________________________________________________\n",
            "dense_10 (Dense)             (None, 64)                57408     \n",
            "_________________________________________________________________\n",
            "dropout_16 (Dropout)         (None, 64)                0         \n",
            "_________________________________________________________________\n",
            "dense_11 (Dense)             (None, 32)                2080      \n",
            "_________________________________________________________________\n",
            "dropout_17 (Dropout)         (None, 32)                0         \n",
            "_________________________________________________________________\n",
            "dense_12 (Dense)             (None, 1)                 33        \n",
            "=================================================================\n",
            "Total params: 64,225\n",
            "Trainable params: 64,033\n",
            "Non-trainable params: 192\n",
            "_________________________________________________________________\n"
          ],
          "name": "stdout"
        }
      ]
    },
    {
      "cell_type": "code",
      "metadata": {
        "id": "y1WOB7mRjv2F",
        "colab_type": "code",
        "colab": {}
      },
      "source": [
        "model.compile(optimizer=Adam(learning_rate=0.0001), loss='binary_crossentropy', metrics=['accuracy'])"
      ],
      "execution_count": 40,
      "outputs": []
    },
    {
      "cell_type": "code",
      "metadata": {
        "id": "SfX24KN4jvy5",
        "colab_type": "code",
        "colab": {
          "base_uri": "https://localhost:8080/",
          "height": 1000
        },
        "outputId": "5622ab4e-15ea-4704-d84f-f2bc4fd0fe1d"
      },
      "source": [
        "history = model.fit(X_train, y_train, \n",
        "                    batch_size=4, \n",
        "                    epochs=epochs, \n",
        "                    verbose=1, \n",
        "                    validation_data=(X_test, y_test), \n",
        "                    callbacks=[es])"
      ],
      "execution_count": 41,
      "outputs": [
        {
          "output_type": "stream",
          "text": [
            "Epoch 1/200\n",
            "114/114 [==============================] - 0s 4ms/step - loss: 1.4579 - accuracy: 0.5055 - val_loss: 0.6439 - val_accuracy: 0.6404\n",
            "Epoch 2/200\n",
            "114/114 [==============================] - 0s 3ms/step - loss: 1.2801 - accuracy: 0.5736 - val_loss: 0.5903 - val_accuracy: 0.6754\n",
            "Epoch 3/200\n",
            "114/114 [==============================] - 0s 3ms/step - loss: 1.1027 - accuracy: 0.6264 - val_loss: 0.5147 - val_accuracy: 0.7632\n",
            "Epoch 4/200\n",
            "114/114 [==============================] - 0s 3ms/step - loss: 0.9477 - accuracy: 0.6462 - val_loss: 0.4282 - val_accuracy: 0.8684\n",
            "Epoch 5/200\n",
            "114/114 [==============================] - 0s 3ms/step - loss: 0.7931 - accuracy: 0.6857 - val_loss: 0.3658 - val_accuracy: 0.9035\n",
            "Epoch 6/200\n",
            "114/114 [==============================] - 0s 3ms/step - loss: 0.8003 - accuracy: 0.6747 - val_loss: 0.3221 - val_accuracy: 0.9386\n",
            "Epoch 7/200\n",
            "114/114 [==============================] - 0s 3ms/step - loss: 0.7083 - accuracy: 0.7165 - val_loss: 0.2876 - val_accuracy: 0.9386\n",
            "Epoch 8/200\n",
            "114/114 [==============================] - 0s 3ms/step - loss: 0.6475 - accuracy: 0.7407 - val_loss: 0.2690 - val_accuracy: 0.9474\n",
            "Epoch 9/200\n",
            "114/114 [==============================] - 0s 3ms/step - loss: 0.6303 - accuracy: 0.7429 - val_loss: 0.2516 - val_accuracy: 0.9474\n",
            "Epoch 10/200\n",
            "114/114 [==============================] - 0s 3ms/step - loss: 0.6535 - accuracy: 0.7648 - val_loss: 0.2413 - val_accuracy: 0.9474\n",
            "Epoch 11/200\n",
            "114/114 [==============================] - 0s 3ms/step - loss: 0.6345 - accuracy: 0.7297 - val_loss: 0.2250 - val_accuracy: 0.9474\n",
            "Epoch 12/200\n",
            "114/114 [==============================] - 0s 3ms/step - loss: 0.6182 - accuracy: 0.7495 - val_loss: 0.2171 - val_accuracy: 0.9474\n",
            "Epoch 13/200\n",
            "114/114 [==============================] - 0s 3ms/step - loss: 0.4305 - accuracy: 0.8066 - val_loss: 0.2061 - val_accuracy: 0.9474\n",
            "Epoch 14/200\n",
            "114/114 [==============================] - 0s 3ms/step - loss: 0.5360 - accuracy: 0.7802 - val_loss: 0.2006 - val_accuracy: 0.9474\n",
            "Epoch 15/200\n",
            "114/114 [==============================] - 0s 3ms/step - loss: 0.4398 - accuracy: 0.8176 - val_loss: 0.1953 - val_accuracy: 0.9474\n",
            "Epoch 16/200\n",
            "114/114 [==============================] - 0s 3ms/step - loss: 0.4344 - accuracy: 0.7890 - val_loss: 0.1905 - val_accuracy: 0.9474\n",
            "Epoch 17/200\n",
            "114/114 [==============================] - 0s 3ms/step - loss: 0.4370 - accuracy: 0.8176 - val_loss: 0.1842 - val_accuracy: 0.9474\n",
            "Epoch 18/200\n",
            "114/114 [==============================] - 0s 3ms/step - loss: 0.4850 - accuracy: 0.8022 - val_loss: 0.1788 - val_accuracy: 0.9474\n",
            "Epoch 19/200\n",
            "114/114 [==============================] - 0s 3ms/step - loss: 0.4048 - accuracy: 0.8549 - val_loss: 0.1751 - val_accuracy: 0.9474\n",
            "Epoch 20/200\n",
            "114/114 [==============================] - 0s 3ms/step - loss: 0.5222 - accuracy: 0.7890 - val_loss: 0.1730 - val_accuracy: 0.9474\n",
            "Epoch 21/200\n",
            "114/114 [==============================] - 0s 3ms/step - loss: 0.4327 - accuracy: 0.8440 - val_loss: 0.1735 - val_accuracy: 0.9474\n",
            "Epoch 22/200\n",
            "114/114 [==============================] - 0s 3ms/step - loss: 0.4007 - accuracy: 0.8462 - val_loss: 0.1696 - val_accuracy: 0.9474\n",
            "Epoch 23/200\n",
            "114/114 [==============================] - 0s 3ms/step - loss: 0.3573 - accuracy: 0.8462 - val_loss: 0.1621 - val_accuracy: 0.9474\n",
            "Epoch 24/200\n",
            "114/114 [==============================] - 0s 3ms/step - loss: 0.3409 - accuracy: 0.8418 - val_loss: 0.1593 - val_accuracy: 0.9474\n",
            "Epoch 25/200\n",
            "114/114 [==============================] - 0s 3ms/step - loss: 0.3412 - accuracy: 0.8593 - val_loss: 0.1606 - val_accuracy: 0.9474\n",
            "Epoch 26/200\n",
            "114/114 [==============================] - 0s 3ms/step - loss: 0.3213 - accuracy: 0.8593 - val_loss: 0.1573 - val_accuracy: 0.9474\n",
            "Epoch 27/200\n",
            "114/114 [==============================] - 0s 3ms/step - loss: 0.3376 - accuracy: 0.8549 - val_loss: 0.1558 - val_accuracy: 0.9474\n",
            "Epoch 28/200\n",
            "114/114 [==============================] - 0s 3ms/step - loss: 0.3834 - accuracy: 0.8484 - val_loss: 0.1574 - val_accuracy: 0.9474\n",
            "Epoch 29/200\n",
            "114/114 [==============================] - 0s 3ms/step - loss: 0.3189 - accuracy: 0.8659 - val_loss: 0.1575 - val_accuracy: 0.9474\n",
            "Epoch 30/200\n",
            "114/114 [==============================] - 0s 3ms/step - loss: 0.4271 - accuracy: 0.8637 - val_loss: 0.1513 - val_accuracy: 0.9474\n",
            "Epoch 31/200\n",
            "114/114 [==============================] - 0s 3ms/step - loss: 0.3452 - accuracy: 0.8681 - val_loss: 0.1515 - val_accuracy: 0.9474\n",
            "Epoch 32/200\n",
            "114/114 [==============================] - 0s 3ms/step - loss: 0.3255 - accuracy: 0.8703 - val_loss: 0.1482 - val_accuracy: 0.9561\n",
            "Epoch 33/200\n",
            "114/114 [==============================] - 0s 3ms/step - loss: 0.3372 - accuracy: 0.8549 - val_loss: 0.1474 - val_accuracy: 0.9474\n",
            "Epoch 34/200\n",
            "114/114 [==============================] - 0s 3ms/step - loss: 0.3520 - accuracy: 0.8703 - val_loss: 0.1447 - val_accuracy: 0.9474\n",
            "Epoch 35/200\n",
            "114/114 [==============================] - 0s 3ms/step - loss: 0.3647 - accuracy: 0.8725 - val_loss: 0.1435 - val_accuracy: 0.9561\n",
            "Epoch 36/200\n",
            "114/114 [==============================] - 0s 3ms/step - loss: 0.3227 - accuracy: 0.8703 - val_loss: 0.1419 - val_accuracy: 0.9561\n",
            "Epoch 37/200\n",
            "114/114 [==============================] - 0s 3ms/step - loss: 0.3982 - accuracy: 0.8308 - val_loss: 0.1395 - val_accuracy: 0.9474\n",
            "Epoch 38/200\n",
            "114/114 [==============================] - 0s 3ms/step - loss: 0.2343 - accuracy: 0.8989 - val_loss: 0.1395 - val_accuracy: 0.9561\n",
            "Epoch 39/200\n",
            "114/114 [==============================] - 0s 3ms/step - loss: 0.2275 - accuracy: 0.9033 - val_loss: 0.1414 - val_accuracy: 0.9561\n",
            "Epoch 40/200\n",
            "114/114 [==============================] - 0s 3ms/step - loss: 0.2826 - accuracy: 0.9143 - val_loss: 0.1378 - val_accuracy: 0.9474\n",
            "Epoch 41/200\n",
            "114/114 [==============================] - 0s 3ms/step - loss: 0.2528 - accuracy: 0.9055 - val_loss: 0.1358 - val_accuracy: 0.9561\n",
            "Epoch 42/200\n",
            "114/114 [==============================] - 0s 3ms/step - loss: 0.2774 - accuracy: 0.8747 - val_loss: 0.1342 - val_accuracy: 0.9561\n",
            "Epoch 43/200\n",
            "114/114 [==============================] - 0s 3ms/step - loss: 0.2878 - accuracy: 0.9033 - val_loss: 0.1362 - val_accuracy: 0.9561\n",
            "Epoch 44/200\n",
            "114/114 [==============================] - 0s 3ms/step - loss: 0.3009 - accuracy: 0.8945 - val_loss: 0.1402 - val_accuracy: 0.9561\n",
            "Epoch 45/200\n",
            "114/114 [==============================] - 0s 3ms/step - loss: 0.2139 - accuracy: 0.9165 - val_loss: 0.1402 - val_accuracy: 0.9561\n",
            "Epoch 46/200\n",
            "114/114 [==============================] - 0s 3ms/step - loss: 0.2579 - accuracy: 0.9099 - val_loss: 0.1405 - val_accuracy: 0.9561\n",
            "Epoch 47/200\n",
            "114/114 [==============================] - 0s 3ms/step - loss: 0.2601 - accuracy: 0.8989 - val_loss: 0.1354 - val_accuracy: 0.9561\n",
            "Epoch 48/200\n",
            "114/114 [==============================] - 0s 3ms/step - loss: 0.2558 - accuracy: 0.9187 - val_loss: 0.1339 - val_accuracy: 0.9561\n",
            "Epoch 49/200\n",
            "114/114 [==============================] - 0s 3ms/step - loss: 0.2858 - accuracy: 0.8835 - val_loss: 0.1329 - val_accuracy: 0.9561\n",
            "Epoch 50/200\n",
            "114/114 [==============================] - 0s 3ms/step - loss: 0.2403 - accuracy: 0.9143 - val_loss: 0.1311 - val_accuracy: 0.9561\n",
            "Epoch 51/200\n",
            "114/114 [==============================] - 0s 3ms/step - loss: 0.2755 - accuracy: 0.9055 - val_loss: 0.1283 - val_accuracy: 0.9561\n",
            "Epoch 52/200\n",
            "114/114 [==============================] - 0s 3ms/step - loss: 0.2301 - accuracy: 0.9099 - val_loss: 0.1304 - val_accuracy: 0.9561\n",
            "Epoch 53/200\n",
            "114/114 [==============================] - 0s 3ms/step - loss: 0.2487 - accuracy: 0.8967 - val_loss: 0.1318 - val_accuracy: 0.9561\n",
            "Epoch 54/200\n",
            "114/114 [==============================] - 0s 3ms/step - loss: 0.2854 - accuracy: 0.9055 - val_loss: 0.1259 - val_accuracy: 0.9561\n",
            "Epoch 55/200\n",
            "114/114 [==============================] - 0s 3ms/step - loss: 0.2342 - accuracy: 0.9011 - val_loss: 0.1226 - val_accuracy: 0.9561\n",
            "Epoch 56/200\n",
            "114/114 [==============================] - 0s 3ms/step - loss: 0.2774 - accuracy: 0.8989 - val_loss: 0.1228 - val_accuracy: 0.9561\n",
            "Epoch 57/200\n",
            "114/114 [==============================] - 0s 3ms/step - loss: 0.2717 - accuracy: 0.8967 - val_loss: 0.1233 - val_accuracy: 0.9561\n",
            "Epoch 58/200\n",
            "114/114 [==============================] - 0s 3ms/step - loss: 0.3102 - accuracy: 0.9011 - val_loss: 0.1207 - val_accuracy: 0.9561\n",
            "Epoch 59/200\n",
            "114/114 [==============================] - 0s 3ms/step - loss: 0.2401 - accuracy: 0.9055 - val_loss: 0.1214 - val_accuracy: 0.9561\n",
            "Epoch 60/200\n",
            "114/114 [==============================] - 0s 3ms/step - loss: 0.1966 - accuracy: 0.9165 - val_loss: 0.1195 - val_accuracy: 0.9649\n",
            "Epoch 61/200\n",
            "114/114 [==============================] - 0s 3ms/step - loss: 0.2883 - accuracy: 0.9011 - val_loss: 0.1241 - val_accuracy: 0.9649\n",
            "Epoch 62/200\n",
            "114/114 [==============================] - 0s 3ms/step - loss: 0.2285 - accuracy: 0.9209 - val_loss: 0.1242 - val_accuracy: 0.9649\n",
            "Epoch 63/200\n",
            "114/114 [==============================] - 0s 3ms/step - loss: 0.2494 - accuracy: 0.9011 - val_loss: 0.1244 - val_accuracy: 0.9649\n",
            "Epoch 64/200\n",
            "114/114 [==============================] - 0s 3ms/step - loss: 0.2550 - accuracy: 0.8857 - val_loss: 0.1197 - val_accuracy: 0.9649\n",
            "Epoch 65/200\n",
            "114/114 [==============================] - 0s 3ms/step - loss: 0.1777 - accuracy: 0.9341 - val_loss: 0.1214 - val_accuracy: 0.9649\n",
            "Epoch 66/200\n",
            "114/114 [==============================] - 0s 3ms/step - loss: 0.2148 - accuracy: 0.9121 - val_loss: 0.1239 - val_accuracy: 0.9649\n",
            "Epoch 67/200\n",
            "114/114 [==============================] - 0s 3ms/step - loss: 0.1938 - accuracy: 0.9297 - val_loss: 0.1209 - val_accuracy: 0.9649\n",
            "Epoch 68/200\n",
            "114/114 [==============================] - 0s 3ms/step - loss: 0.2419 - accuracy: 0.9253 - val_loss: 0.1214 - val_accuracy: 0.9561\n",
            "Epoch 69/200\n",
            "114/114 [==============================] - 0s 3ms/step - loss: 0.2426 - accuracy: 0.9055 - val_loss: 0.1201 - val_accuracy: 0.9649\n",
            "Epoch 70/200\n",
            "114/114 [==============================] - 0s 3ms/step - loss: 0.2210 - accuracy: 0.9077 - val_loss: 0.1169 - val_accuracy: 0.9649\n",
            "Epoch 71/200\n",
            "114/114 [==============================] - 0s 3ms/step - loss: 0.2387 - accuracy: 0.9341 - val_loss: 0.1146 - val_accuracy: 0.9649\n",
            "Epoch 72/200\n",
            "114/114 [==============================] - 0s 3ms/step - loss: 0.2045 - accuracy: 0.9165 - val_loss: 0.1150 - val_accuracy: 0.9649\n",
            "Epoch 73/200\n",
            "114/114 [==============================] - 0s 3ms/step - loss: 0.2032 - accuracy: 0.9319 - val_loss: 0.1118 - val_accuracy: 0.9649\n",
            "Epoch 74/200\n",
            "114/114 [==============================] - 0s 3ms/step - loss: 0.2089 - accuracy: 0.9451 - val_loss: 0.1120 - val_accuracy: 0.9649\n",
            "Epoch 75/200\n",
            "114/114 [==============================] - 0s 3ms/step - loss: 0.2545 - accuracy: 0.9363 - val_loss: 0.1129 - val_accuracy: 0.9649\n",
            "Epoch 76/200\n",
            "114/114 [==============================] - 0s 3ms/step - loss: 0.2038 - accuracy: 0.9187 - val_loss: 0.1098 - val_accuracy: 0.9649\n",
            "Epoch 77/200\n",
            "114/114 [==============================] - 0s 3ms/step - loss: 0.2121 - accuracy: 0.9165 - val_loss: 0.1105 - val_accuracy: 0.9737\n",
            "Epoch 78/200\n",
            "114/114 [==============================] - 0s 3ms/step - loss: 0.1964 - accuracy: 0.9187 - val_loss: 0.1116 - val_accuracy: 0.9649\n",
            "Epoch 79/200\n",
            "114/114 [==============================] - 0s 3ms/step - loss: 0.2072 - accuracy: 0.9253 - val_loss: 0.1094 - val_accuracy: 0.9737\n",
            "Epoch 80/200\n",
            "114/114 [==============================] - 0s 3ms/step - loss: 0.1861 - accuracy: 0.9297 - val_loss: 0.1078 - val_accuracy: 0.9649\n",
            "Epoch 81/200\n",
            "114/114 [==============================] - 0s 3ms/step - loss: 0.2547 - accuracy: 0.8879 - val_loss: 0.1073 - val_accuracy: 0.9649\n",
            "Epoch 82/200\n",
            "114/114 [==============================] - 0s 3ms/step - loss: 0.2255 - accuracy: 0.9275 - val_loss: 0.1120 - val_accuracy: 0.9649\n",
            "Epoch 83/200\n",
            "114/114 [==============================] - 0s 3ms/step - loss: 0.1945 - accuracy: 0.9341 - val_loss: 0.1135 - val_accuracy: 0.9649\n",
            "Epoch 84/200\n",
            "114/114 [==============================] - 0s 3ms/step - loss: 0.2022 - accuracy: 0.9231 - val_loss: 0.1106 - val_accuracy: 0.9649\n",
            "Epoch 85/200\n",
            "114/114 [==============================] - 0s 3ms/step - loss: 0.1793 - accuracy: 0.9253 - val_loss: 0.1103 - val_accuracy: 0.9649\n",
            "Epoch 86/200\n",
            "114/114 [==============================] - 0s 4ms/step - loss: 0.1660 - accuracy: 0.9297 - val_loss: 0.1082 - val_accuracy: 0.9649\n",
            "Epoch 87/200\n",
            "114/114 [==============================] - 0s 3ms/step - loss: 0.2396 - accuracy: 0.9429 - val_loss: 0.1086 - val_accuracy: 0.9649\n",
            "Epoch 88/200\n",
            "114/114 [==============================] - 0s 3ms/step - loss: 0.1694 - accuracy: 0.9187 - val_loss: 0.1040 - val_accuracy: 0.9737\n",
            "Epoch 89/200\n",
            "114/114 [==============================] - 0s 3ms/step - loss: 0.1790 - accuracy: 0.9341 - val_loss: 0.1014 - val_accuracy: 0.9737\n",
            "Epoch 90/200\n",
            "114/114 [==============================] - 0s 3ms/step - loss: 0.2261 - accuracy: 0.9187 - val_loss: 0.1029 - val_accuracy: 0.9737\n",
            "Epoch 91/200\n",
            "114/114 [==============================] - 0s 3ms/step - loss: 0.2205 - accuracy: 0.9275 - val_loss: 0.1066 - val_accuracy: 0.9737\n",
            "Epoch 92/200\n",
            "114/114 [==============================] - 0s 3ms/step - loss: 0.1699 - accuracy: 0.9363 - val_loss: 0.1057 - val_accuracy: 0.9737\n",
            "Epoch 93/200\n",
            "114/114 [==============================] - 0s 3ms/step - loss: 0.1909 - accuracy: 0.9121 - val_loss: 0.1102 - val_accuracy: 0.9737\n",
            "Epoch 94/200\n",
            "114/114 [==============================] - 0s 3ms/step - loss: 0.1970 - accuracy: 0.9275 - val_loss: 0.1107 - val_accuracy: 0.9737\n",
            "Epoch 95/200\n",
            "114/114 [==============================] - 0s 3ms/step - loss: 0.1877 - accuracy: 0.9077 - val_loss: 0.1086 - val_accuracy: 0.9737\n",
            "Epoch 96/200\n",
            "114/114 [==============================] - 0s 3ms/step - loss: 0.1759 - accuracy: 0.9187 - val_loss: 0.1131 - val_accuracy: 0.9649\n",
            "Epoch 97/200\n",
            "114/114 [==============================] - 0s 3ms/step - loss: 0.1668 - accuracy: 0.9341 - val_loss: 0.1125 - val_accuracy: 0.9649\n",
            "Epoch 98/200\n",
            "114/114 [==============================] - 0s 3ms/step - loss: 0.1455 - accuracy: 0.9538 - val_loss: 0.1148 - val_accuracy: 0.9649\n",
            "Epoch 99/200\n",
            "114/114 [==============================] - 0s 3ms/step - loss: 0.2027 - accuracy: 0.9253 - val_loss: 0.1126 - val_accuracy: 0.9737\n",
            "Epoch 00099: early stopping\n"
          ],
          "name": "stdout"
        }
      ]
    },
    {
      "cell_type": "code",
      "metadata": {
        "id": "bDLuLQgkY_Jy",
        "colab_type": "code",
        "colab": {
          "base_uri": "https://localhost:8080/",
          "height": 621
        },
        "outputId": "e7db3632-2235-4411-a12e-b7d394dbd236"
      },
      "source": [
        "x = range(1,len(history.history['loss'])+1)\n",
        "\n",
        "fig = plt.figure(figsize=(22,10))\n",
        "\n",
        "ax1 = fig.add_subplot(121)\n",
        "ax1.plot(x, history.history['accuracy'], 'go-', label='Train')\n",
        "ax1.plot(x, history.history['val_accuracy'], 'ro-', label='Val')\n",
        "ax1.set_title('Model Accuracy')\n",
        "ax1.set_xlabel('Epochs')\n",
        "ax1.set_ylabel('Accuracy')\n",
        "ax1.legend()\n",
        "\n",
        "ax2 = fig.add_subplot(122)\n",
        "ax2.plot(x, history.history['loss'], 'go-', label='Train')\n",
        "ax2.plot(x, history.history['val_loss'], 'ro-', label='Val')\n",
        "ax2.set_title('Model Loss')\n",
        "ax2.set_xlabel('Epochs')\n",
        "ax2.set_ylabel('Loss')\n",
        "ax2.legend()\n",
        "\n",
        "fig.get_tight_layout()\n",
        "fig.show()"
      ],
      "execution_count": 42,
      "outputs": [
        {
          "output_type": "display_data",
          "data": {
            "image/png": "[encoded data removed]",
            "text/plain": [
              "<Figure size 1584x720 with 2 Axes>"
            ]
          },
          "metadata": {
            "tags": [],
            "needs_background": "light"
          }
        }
      ]
    },
    {
      "cell_type": "code",
      "metadata": {
        "id": "c3zdpxEfZB1t",
        "colab_type": "code",
        "colab": {}
      },
      "source": [
        "y_pred = model.predict_classes(X_test)\n",
        "y_pred = y_pred.reshape(1,-1)[0]"
      ],
      "execution_count": 43,
      "outputs": []
    },
    {
      "cell_type": "code",
      "metadata": {
        "id": "w1G4-jjMZIkH",
        "colab_type": "code",
        "colab": {
          "base_uri": "https://localhost:8080/",
          "height": 170
        },
        "outputId": "24e007bd-ad02-4924-c5bc-2ccfe43f6e4a"
      },
      "source": [
        "print(classification_report(y_test, y_pred))"
      ],
      "execution_count": 44,
      "outputs": [
        {
          "output_type": "stream",
          "text": [
            "              precision    recall  f1-score   support\n",
            "\n",
            "           0       1.00      0.93      0.96        42\n",
            "           1       0.96      1.00      0.98        72\n",
            "\n",
            "    accuracy                           0.97       114\n",
            "   macro avg       0.98      0.96      0.97       114\n",
            "weighted avg       0.97      0.97      0.97       114\n",
            "\n"
          ],
          "name": "stdout"
        }
      ]
    },
    {
      "cell_type": "code",
      "metadata": {
        "id": "KamTf7DvZlxS",
        "colab_type": "code",
        "colab": {}
      },
      "source": [
        ""
      ],
      "execution_count": null,
      "outputs": []
    }
  ]
}